{
  "nbformat": 4,
  "nbformat_minor": 0,
  "metadata": {
    "colab": {
      "provenance": [],
      "authorship_tag": "ABX9TyNgrfIiidMx0scU3phVbd0B",
      "include_colab_link": true
    },
    "kernelspec": {
      "name": "python3",
      "display_name": "Python 3"
    },
    "language_info": {
      "name": "python"
    }
  },
  "cells": [
    {
      "cell_type": "markdown",
      "metadata": {
        "id": "view-in-github",
        "colab_type": "text"
      },
      "source": [
        "<a href=\"https://colab.research.google.com/github/ddiaz63/Data-110/blob/main/w2_scatter.ipynb\" target=\"_parent\"><img src=\"https://colab.research.google.com/assets/colab-badge.svg\" alt=\"Open In Colab\"/></a>"
      ]
    },
    {
      "cell_type": "code",
      "execution_count": 7,
      "metadata": {
        "id": "2oslhKEWUfCo"
      },
      "outputs": [],
      "source": [
        "import matplotlib.pyplot as plt\n",
        "import numpy as np\n",
        "import pandas as pd"
      ]
    },
    {
      "cell_type": "code",
      "source": [
        "x = [10, 8, 13, 9, 11, 14, 6, 4, 12, 7, 5]\n",
        "y1 = [8.04, 6.95, 7.58, 8.81, 8.33, 9.96, 7.24, 4.26, 10.84, 4.82, 5.68]\n"
      ],
      "metadata": {
        "id": "Y8sJ40_wU-Ld"
      },
      "execution_count": 8,
      "outputs": []
    },
    {
      "cell_type": "code",
      "source": [
        "type(x)"
      ],
      "metadata": {
        "colab": {
          "base_uri": "https://localhost:8080/"
        },
        "id": "wzeV6tDxVCYg",
        "outputId": "368aeb8a-30b0-4f69-9415-d067dbeb6758"
      },
      "execution_count": 9,
      "outputs": [
        {
          "output_type": "execute_result",
          "data": {
            "text/plain": [
              "list"
            ]
          },
          "metadata": {},
          "execution_count": 9
        }
      ]
    },
    {
      "cell_type": "code",
      "source": [
        "min(x)"
      ],
      "metadata": {
        "colab": {
          "base_uri": "https://localhost:8080/"
        },
        "id": "7GX-hzrjVJFx",
        "outputId": "59fc3598-c978-4109-bd20-75480f722428"
      },
      "execution_count": 10,
      "outputs": [
        {
          "output_type": "execute_result",
          "data": {
            "text/plain": [
              "4"
            ]
          },
          "metadata": {},
          "execution_count": 10
        }
      ]
    },
    {
      "cell_type": "code",
      "source": [
        "max(x)"
      ],
      "metadata": {
        "colab": {
          "base_uri": "https://localhost:8080/"
        },
        "id": "If0OpzgVVX13",
        "outputId": "d5c8a9d3-5881-4abc-b3ca-f3fa85c48186"
      },
      "execution_count": 12,
      "outputs": [
        {
          "output_type": "execute_result",
          "data": {
            "text/plain": [
              "14"
            ]
          },
          "metadata": {},
          "execution_count": 12
        }
      ]
    },
    {
      "cell_type": "code",
      "source": [
        "len(x)"
      ],
      "metadata": {
        "colab": {
          "base_uri": "https://localhost:8080/"
        },
        "id": "QZQUyLQBVRjn",
        "outputId": "b395673f-8aad-47d7-908b-5c87b7c1ee1a"
      },
      "execution_count": 11,
      "outputs": [
        {
          "output_type": "execute_result",
          "data": {
            "text/plain": [
              "11"
            ]
          },
          "metadata": {},
          "execution_count": 11
        }
      ]
    },
    {
      "cell_type": "code",
      "source": [
        "x[0]"
      ],
      "metadata": {
        "colab": {
          "base_uri": "https://localhost:8080/"
        },
        "id": "RxTaDUO4Vcjy",
        "outputId": "40e95fad-cef0-49e6-c3f8-77da2eb0ccb5"
      },
      "execution_count": 14,
      "outputs": [
        {
          "output_type": "execute_result",
          "data": {
            "text/plain": [
              "10"
            ]
          },
          "metadata": {},
          "execution_count": 14
        }
      ]
    },
    {
      "cell_type": "code",
      "source": [
        "x[-1]"
      ],
      "metadata": {
        "colab": {
          "base_uri": "https://localhost:8080/"
        },
        "id": "Y0w-b6BKVlXr",
        "outputId": "42b6e1d8-ac0b-49cb-bb07-3979cb5d14e6"
      },
      "execution_count": 15,
      "outputs": [
        {
          "output_type": "execute_result",
          "data": {
            "text/plain": [
              "5"
            ]
          },
          "metadata": {},
          "execution_count": 15
        }
      ]
    },
    {
      "cell_type": "code",
      "source": [
        "average=sum(x)/len(x)\n",
        "print(average)"
      ],
      "metadata": {
        "colab": {
          "base_uri": "https://localhost:8080/"
        },
        "id": "8iF3iukqVqKz",
        "outputId": "93163139-a610-4a14-cd6f-6afa1da2fd7e"
      },
      "execution_count": 16,
      "outputs": [
        {
          "output_type": "stream",
          "name": "stdout",
          "text": [
            "9.0\n"
          ]
        }
      ]
    },
    {
      "cell_type": "code",
      "source": [
        "plt.scatter(x,y1)\n",
        "plt.show()"
      ],
      "metadata": {
        "colab": {
          "base_uri": "https://localhost:8080/",
          "height": 430
        },
        "id": "0M2Qjhz5V5ay",
        "outputId": "7f81fb8c-9f3f-47ae-b3a8-c6eecf1a3d42"
      },
      "execution_count": 18,
      "outputs": [
        {
          "output_type": "display_data",
          "data": {
            "text/plain": [
              "<Figure size 640x480 with 1 Axes>"
            ],
            "image/png": "[encoded data removed]"
          },
          "metadata": {}
        }
      ]
    },
    {
      "cell_type": "code",
      "source": [
        "# create repression line y=mx+b where m is slope while b is y-intercept\n",
        "m,b=np.polyfit(x,y1,1)\n",
        "print(m,b)\n",
        "# first make x as np.array so we can do extra operation on it\n",
        "x=np.array(x)\n",
        "regression_line=m*x+b\n",
        "plt.plot(x,regression_line)"
      ],
      "metadata": {
        "colab": {
          "base_uri": "https://localhost:8080/",
          "height": 466
        },
        "id": "r6brcd-bW4Tf",
        "outputId": "b241588f-2201-4374-8462-0f53f0a6d1f1"
      },
      "execution_count": 27,
      "outputs": [
        {
          "output_type": "stream",
          "name": "stdout",
          "text": [
            "0.5000909090909094 3.000090909090908\n"
          ]
        },
        {
          "output_type": "execute_result",
          "data": {
            "text/plain": [
              "[<matplotlib.lines.Line2D at 0x7922e6b07cd0>]"
            ]
          },
          "metadata": {},
          "execution_count": 27
        },
        {
          "output_type": "display_data",
          "data": {
            "text/plain": [
              "<Figure size 640x480 with 1 Axes>"
            ],
            "image/png": "[encoded data removed]"
          },
          "metadata": {}
        }
      ]
    },
    {
      "cell_type": "code",
      "source": [
        "plt.scatter(x,y1)\n",
        "plt.plot(x,regression_line)"
      ],
      "metadata": {
        "colab": {
          "base_uri": "https://localhost:8080/",
          "height": 448
        },
        "id": "gttacXR1YIwQ",
        "outputId": "83245f70-9b91-43b2-9e4f-7d26f7898bec"
      },
      "execution_count": 30,
      "outputs": [
        {
          "output_type": "execute_result",
          "data": {
            "text/plain": [
              "[<matplotlib.lines.Line2D at 0x7922e6801840>]"
            ]
          },
          "metadata": {},
          "execution_count": 30
        },
        {
          "output_type": "display_data",
          "data": {
            "text/plain": [
              "<Figure size 640x480 with 1 Axes>"
            ],
            "image/png": "[encoded data removed]"
          },
          "metadata": {}
        }
      ]
    },
    {
      "cell_type": "code",
      "source": [
        "plt.scatter(x,y1,color='red',s=100) # use y1 instead of y2\n",
        "plt.plot(x,regression_line)\n",
        "plt.plot(x,regression_line)\n",
        "plt.xlabel('x')\n",
        "plt.ylabel('y1')"
      ],
      "metadata": {
        "colab": {
          "base_uri": "https://localhost:8080/",
          "height": 467
        },
        "id": "SPMDSs1FYtYu",
        "outputId": "da5cdbc0-777d-4a30-d974-4a84cfc4c59c"
      },
      "execution_count": 40,
      "outputs": [
        {
          "output_type": "execute_result",
          "data": {
            "text/plain": [
              "Text(0, 0.5, 'y1')"
            ]
          },
          "metadata": {},
          "execution_count": 40
        },
        {
          "output_type": "display_data",
          "data": {
            "text/plain": [
              "<Figure size 640x480 with 1 Axes>"
            ],
            "image/png": "[encoded data removed]"
          },
          "metadata": {}
        }
      ]
    },
    {
      "cell_type": "code",
      "source": [
        "import matplotlib.pyplot as plt\n",
        "import numpy as np\n",
        "import pandas as pd\n"
      ],
      "metadata": {
        "id": "xdOsc86jhRKh"
      },
      "execution_count": null,
      "outputs": []
    },
    {
      "cell_type": "code",
      "source": [
        "#load the dataset\n",
        "\n",
        "pd.read_csv('/happiness.csv')"
      ],
      "metadata": {
        "colab": {
          "base_uri": "https://localhost:8080/",
          "height": 565
        },
        "id": "CYqXBqHshmbc",
        "outputId": "4ffbbc50-dd29-4499-9e92-70cd59aa2fdb"
      },
      "execution_count": 43,
      "outputs": [
        {
          "output_type": "execute_result",
          "data": {
            "text/plain": [
              "         country  Rank  Happiness Score  Life Ladder  Log GDP per capita  \\\n",
              "0        Denmark     1            7.693     7.519909           10.699571   \n",
              "1         Norway     2            7.655     7.678277           11.050944   \n",
              "2    Switzerland     3            7.650     7.776209           10.935776   \n",
              "3    Netherlands     4            7.512     7.470716           10.723517   \n",
              "4         Sweden     5            7.480     7.560148           10.676098   \n",
              "..           ...   ...              ...          ...                 ...   \n",
              "137      Comoros   138            3.851     3.955640            7.259981   \n",
              "138       Guinea   139            3.847     3.651555            7.429011   \n",
              "139     Tanzania   140            3.770     4.006897            7.708783   \n",
              "140       Rwanda   141            3.715     3.333048            7.318347   \n",
              "141        Benin   142            3.528     3.193469            7.526094   \n",
              "\n",
              "     Social support  Healthy life expectancy at birth  \\\n",
              "0          0.951437                         70.044815   \n",
              "1          0.947657                         70.524834   \n",
              "2          0.946864                         72.734001   \n",
              "3          0.938885                         71.091934   \n",
              "4          0.929397                         71.740868   \n",
              "..              ...                               ...   \n",
              "137        0.719218                         53.497059   \n",
              "138        0.542295                         48.798191   \n",
              "139        0.832056                         53.267857   \n",
              "140        0.637147                         54.860779   \n",
              "141        0.523027                         50.676147   \n",
              "\n",
              "     Freedom to make life choices  Generosity  Perceptions of corruption  \\\n",
              "0                        0.932628    0.127539                   0.187408   \n",
              "1                        0.946566    0.120922                   0.368043   \n",
              "2                        0.945428    0.125727                   0.323241   \n",
              "3                        0.877119    0.276100                   0.433754   \n",
              "4                        0.944382    0.119244                   0.253543   \n",
              "..                            ...         ...                        ...   \n",
              "137                      0.534041   -0.069553                   0.651009   \n",
              "138                      0.646188    0.011559                   0.794450   \n",
              "139                      0.577453    0.206547                   0.886998   \n",
              "140                      0.835491   -0.005128                   0.081325   \n",
              "141                      0.768971   -0.085358                   0.805978   \n",
              "\n",
              "     Positive affect  Negative affect  Confidence in national government  \\\n",
              "0           0.773764         0.208570                           0.534253   \n",
              "1           0.822750         0.212821                           0.663341   \n",
              "2           0.859107         0.176007                           0.769940   \n",
              "3           0.860641         0.226290                           0.574514   \n",
              "4           0.855100         0.170226                           0.626497   \n",
              "..               ...              ...                                ...   \n",
              "137         0.612241         0.211844                           0.464863   \n",
              "138         0.677213         0.284573                           0.557172   \n",
              "139         0.678828         0.195307                           0.414645   \n",
              "140         0.702794         0.132398                                NaN   \n",
              "141         0.582524         0.230665                           0.582080   \n",
              "\n",
              "     Democratic Quality  Delivery Quality  \\\n",
              "0              1.294512          2.011580   \n",
              "1              1.527817          1.917715   \n",
              "2              1.529229          1.879037   \n",
              "3              1.396525          1.886310   \n",
              "4              1.430478          2.032324   \n",
              "..                  ...               ...   \n",
              "137           -0.459228         -1.185267   \n",
              "138           -1.150451         -1.184597   \n",
              "139           -0.062280         -0.592592   \n",
              "140           -0.754136          0.034556   \n",
              "141            0.244427         -0.584024   \n",
              "\n",
              "     Standard deviation of ladder by country-year  \\\n",
              "0                                        1.702373   \n",
              "1                                        1.746018   \n",
              "2                                        1.564781   \n",
              "3                                        1.351189   \n",
              "4                                        1.587887   \n",
              "..                                            ...   \n",
              "137                                      1.385450   \n",
              "138                                      1.659664   \n",
              "139                                      1.915126   \n",
              "140                                      1.542426   \n",
              "141                                      1.640371   \n",
              "\n",
              "     Standard deviation/Mean of ladder by country-year  \\\n",
              "0                                             0.226382   \n",
              "1                                             0.227397   \n",
              "2                                             0.201227   \n",
              "3                                             0.180865   \n",
              "4                                             0.210034   \n",
              "..                                                 ...   \n",
              "137                                           0.350247   \n",
              "138                                           0.454509   \n",
              "139                                           0.477957   \n",
              "140                                           0.462767   \n",
              "141                                           0.513664   \n",
              "\n",
              "     GINI index (World Bank estimate)  \\\n",
              "0                               0.278   \n",
              "1                               0.257   \n",
              "2                               0.316   \n",
              "3                               0.276   \n",
              "4                               0.271   \n",
              "..                                ...   \n",
              "137                               NaN   \n",
              "138                             0.337   \n",
              "139                               NaN   \n",
              "140                               NaN   \n",
              "141                               NaN   \n",
              "\n",
              "     GINI index (World Bank estimate), average 2000-15  \\\n",
              "0                                             0.267091   \n",
              "1                                             0.271727   \n",
              "2                                             0.327571   \n",
              "3                                             0.286909   \n",
              "4                                             0.267455   \n",
              "..                                                 ...   \n",
              "137                                           0.504500   \n",
              "138                                           0.387000   \n",
              "139                                           0.384667   \n",
              "140                                           0.505500   \n",
              "141                                           0.432667   \n",
              "\n",
              "     gini of household income reported in Gallup, by wp5-year  \n",
              "0                                             0.365274         \n",
              "1                                             0.318804         \n",
              "2                                             0.308629         \n",
              "3                                             0.352454         \n",
              "4                                             0.319790         \n",
              "..                                                 ...         \n",
              "137                                           0.428864         \n",
              "138                                           0.504480         \n",
              "139                                           0.538573         \n",
              "140                                           0.616651         \n",
              "141                                           0.495051         \n",
              "\n",
              "[142 rows x 20 columns]"
            ],
            "text/html": [
              "\n",
              "  <div id=\"df-50e8add7-9e81-46ed-a50c-f69c4a357c21\" class=\"colab-df-container\">\n",
              "    <div>\n",
              "<style scoped>\n",
              "    .dataframe tbody tr th:only-of-type {\n",
              "        vertical-align: middle;\n",
              "    }\n",
              "\n",
              "    .dataframe tbody tr th {\n",
              "        vertical-align: top;\n",
              "    }\n",
              "\n",
              "    .dataframe thead th {\n",
              "        text-align: right;\n",
              "    }\n",
              "</style>\n",
              "<table border=\"1\" class=\"dataframe\">\n",
              "  <thead>\n",
              "    <tr style=\"text-align: right;\">\n",
              "      <th></th>\n",
              "      <th>country</th>\n",
              "      <th>Rank</th>\n",
              "      <th>Happiness Score</th>\n",
              "      <th>Life Ladder</th>\n",
              "      <th>Log GDP per capita</th>\n",
              "      <th>Social support</th>\n",
              "      <th>Healthy life expectancy at birth</th>\n",
              "      <th>Freedom to make life choices</th>\n",
              "      <th>Generosity</th>\n",
              "      <th>Perceptions of corruption</th>\n",
              "      <th>Positive affect</th>\n",
              "      <th>Negative affect</th>\n",
              "      <th>Confidence in national government</th>\n",
              "      <th>Democratic Quality</th>\n",
              "      <th>Delivery Quality</th>\n",
              "      <th>Standard deviation of ladder by country-year</th>\n",
              "      <th>Standard deviation/Mean of ladder by country-year</th>\n",
              "      <th>GINI index (World Bank estimate)</th>\n",
              "      <th>GINI index (World Bank estimate), average 2000-15</th>\n",
              "      <th>gini of household income reported in Gallup, by wp5-year</th>\n",
              "    </tr>\n",
              "  </thead>\n",
              "  <tbody>\n",
              "    <tr>\n",
              "      <th>0</th>\n",
              "      <td>Denmark</td>\n",
              "      <td>1</td>\n",
              "      <td>7.693</td>\n",
              "      <td>7.519909</td>\n",
              "      <td>10.699571</td>\n",
              "      <td>0.951437</td>\n",
              "      <td>70.044815</td>\n",
              "      <td>0.932628</td>\n",
              "      <td>0.127539</td>\n",
              "      <td>0.187408</td>\n",
              "      <td>0.773764</td>\n",
              "      <td>0.208570</td>\n",
              "      <td>0.534253</td>\n",
              "      <td>1.294512</td>\n",
              "      <td>2.011580</td>\n",
              "      <td>1.702373</td>\n",
              "      <td>0.226382</td>\n",
              "      <td>0.278</td>\n",
              "      <td>0.267091</td>\n",
              "      <td>0.365274</td>\n",
              "    </tr>\n",
              "    <tr>\n",
              "      <th>1</th>\n",
              "      <td>Norway</td>\n",
              "      <td>2</td>\n",
              "      <td>7.655</td>\n",
              "      <td>7.678277</td>\n",
              "      <td>11.050944</td>\n",
              "      <td>0.947657</td>\n",
              "      <td>70.524834</td>\n",
              "      <td>0.946566</td>\n",
              "      <td>0.120922</td>\n",
              "      <td>0.368043</td>\n",
              "      <td>0.822750</td>\n",
              "      <td>0.212821</td>\n",
              "      <td>0.663341</td>\n",
              "      <td>1.527817</td>\n",
              "      <td>1.917715</td>\n",
              "      <td>1.746018</td>\n",
              "      <td>0.227397</td>\n",
              "      <td>0.257</td>\n",
              "      <td>0.271727</td>\n",
              "      <td>0.318804</td>\n",
              "    </tr>\n",
              "    <tr>\n",
              "      <th>2</th>\n",
              "      <td>Switzerland</td>\n",
              "      <td>3</td>\n",
              "      <td>7.650</td>\n",
              "      <td>7.776209</td>\n",
              "      <td>10.935776</td>\n",
              "      <td>0.946864</td>\n",
              "      <td>72.734001</td>\n",
              "      <td>0.945428</td>\n",
              "      <td>0.125727</td>\n",
              "      <td>0.323241</td>\n",
              "      <td>0.859107</td>\n",
              "      <td>0.176007</td>\n",
              "      <td>0.769940</td>\n",
              "      <td>1.529229</td>\n",
              "      <td>1.879037</td>\n",
              "      <td>1.564781</td>\n",
              "      <td>0.201227</td>\n",
              "      <td>0.316</td>\n",
              "      <td>0.327571</td>\n",
              "      <td>0.308629</td>\n",
              "    </tr>\n",
              "    <tr>\n",
              "      <th>3</th>\n",
              "      <td>Netherlands</td>\n",
              "      <td>4</td>\n",
              "      <td>7.512</td>\n",
              "      <td>7.470716</td>\n",
              "      <td>10.723517</td>\n",
              "      <td>0.938885</td>\n",
              "      <td>71.091934</td>\n",
              "      <td>0.877119</td>\n",
              "      <td>0.276100</td>\n",
              "      <td>0.433754</td>\n",
              "      <td>0.860641</td>\n",
              "      <td>0.226290</td>\n",
              "      <td>0.574514</td>\n",
              "      <td>1.396525</td>\n",
              "      <td>1.886310</td>\n",
              "      <td>1.351189</td>\n",
              "      <td>0.180865</td>\n",
              "      <td>0.276</td>\n",
              "      <td>0.286909</td>\n",
              "      <td>0.352454</td>\n",
              "    </tr>\n",
              "    <tr>\n",
              "      <th>4</th>\n",
              "      <td>Sweden</td>\n",
              "      <td>5</td>\n",
              "      <td>7.480</td>\n",
              "      <td>7.560148</td>\n",
              "      <td>10.676098</td>\n",
              "      <td>0.929397</td>\n",
              "      <td>71.740868</td>\n",
              "      <td>0.944382</td>\n",
              "      <td>0.119244</td>\n",
              "      <td>0.253543</td>\n",
              "      <td>0.855100</td>\n",
              "      <td>0.170226</td>\n",
              "      <td>0.626497</td>\n",
              "      <td>1.430478</td>\n",
              "      <td>2.032324</td>\n",
              "      <td>1.587887</td>\n",
              "      <td>0.210034</td>\n",
              "      <td>0.271</td>\n",
              "      <td>0.267455</td>\n",
              "      <td>0.319790</td>\n",
              "    </tr>\n",
              "    <tr>\n",
              "      <th>...</th>\n",
              "      <td>...</td>\n",
              "      <td>...</td>\n",
              "      <td>...</td>\n",
              "      <td>...</td>\n",
              "      <td>...</td>\n",
              "      <td>...</td>\n",
              "      <td>...</td>\n",
              "      <td>...</td>\n",
              "      <td>...</td>\n",
              "      <td>...</td>\n",
              "      <td>...</td>\n",
              "      <td>...</td>\n",
              "      <td>...</td>\n",
              "      <td>...</td>\n",
              "      <td>...</td>\n",
              "      <td>...</td>\n",
              "      <td>...</td>\n",
              "      <td>...</td>\n",
              "      <td>...</td>\n",
              "      <td>...</td>\n",
              "    </tr>\n",
              "    <tr>\n",
              "      <th>137</th>\n",
              "      <td>Comoros</td>\n",
              "      <td>138</td>\n",
              "      <td>3.851</td>\n",
              "      <td>3.955640</td>\n",
              "      <td>7.259981</td>\n",
              "      <td>0.719218</td>\n",
              "      <td>53.497059</td>\n",
              "      <td>0.534041</td>\n",
              "      <td>-0.069553</td>\n",
              "      <td>0.651009</td>\n",
              "      <td>0.612241</td>\n",
              "      <td>0.211844</td>\n",
              "      <td>0.464863</td>\n",
              "      <td>-0.459228</td>\n",
              "      <td>-1.185267</td>\n",
              "      <td>1.385450</td>\n",
              "      <td>0.350247</td>\n",
              "      <td>NaN</td>\n",
              "      <td>0.504500</td>\n",
              "      <td>0.428864</td>\n",
              "    </tr>\n",
              "    <tr>\n",
              "      <th>138</th>\n",
              "      <td>Guinea</td>\n",
              "      <td>139</td>\n",
              "      <td>3.847</td>\n",
              "      <td>3.651555</td>\n",
              "      <td>7.429011</td>\n",
              "      <td>0.542295</td>\n",
              "      <td>48.798191</td>\n",
              "      <td>0.646188</td>\n",
              "      <td>0.011559</td>\n",
              "      <td>0.794450</td>\n",
              "      <td>0.677213</td>\n",
              "      <td>0.284573</td>\n",
              "      <td>0.557172</td>\n",
              "      <td>-1.150451</td>\n",
              "      <td>-1.184597</td>\n",
              "      <td>1.659664</td>\n",
              "      <td>0.454509</td>\n",
              "      <td>0.337</td>\n",
              "      <td>0.387000</td>\n",
              "      <td>0.504480</td>\n",
              "    </tr>\n",
              "    <tr>\n",
              "      <th>139</th>\n",
              "      <td>Tanzania</td>\n",
              "      <td>140</td>\n",
              "      <td>3.770</td>\n",
              "      <td>4.006897</td>\n",
              "      <td>7.708783</td>\n",
              "      <td>0.832056</td>\n",
              "      <td>53.267857</td>\n",
              "      <td>0.577453</td>\n",
              "      <td>0.206547</td>\n",
              "      <td>0.886998</td>\n",
              "      <td>0.678828</td>\n",
              "      <td>0.195307</td>\n",
              "      <td>0.414645</td>\n",
              "      <td>-0.062280</td>\n",
              "      <td>-0.592592</td>\n",
              "      <td>1.915126</td>\n",
              "      <td>0.477957</td>\n",
              "      <td>NaN</td>\n",
              "      <td>0.384667</td>\n",
              "      <td>0.538573</td>\n",
              "    </tr>\n",
              "    <tr>\n",
              "      <th>140</th>\n",
              "      <td>Rwanda</td>\n",
              "      <td>141</td>\n",
              "      <td>3.715</td>\n",
              "      <td>3.333048</td>\n",
              "      <td>7.318347</td>\n",
              "      <td>0.637147</td>\n",
              "      <td>54.860779</td>\n",
              "      <td>0.835491</td>\n",
              "      <td>-0.005128</td>\n",
              "      <td>0.081325</td>\n",
              "      <td>0.702794</td>\n",
              "      <td>0.132398</td>\n",
              "      <td>NaN</td>\n",
              "      <td>-0.754136</td>\n",
              "      <td>0.034556</td>\n",
              "      <td>1.542426</td>\n",
              "      <td>0.462767</td>\n",
              "      <td>NaN</td>\n",
              "      <td>0.505500</td>\n",
              "      <td>0.616651</td>\n",
              "    </tr>\n",
              "    <tr>\n",
              "      <th>141</th>\n",
              "      <td>Benin</td>\n",
              "      <td>142</td>\n",
              "      <td>3.528</td>\n",
              "      <td>3.193469</td>\n",
              "      <td>7.526094</td>\n",
              "      <td>0.523027</td>\n",
              "      <td>50.676147</td>\n",
              "      <td>0.768971</td>\n",
              "      <td>-0.085358</td>\n",
              "      <td>0.805978</td>\n",
              "      <td>0.582524</td>\n",
              "      <td>0.230665</td>\n",
              "      <td>0.582080</td>\n",
              "      <td>0.244427</td>\n",
              "      <td>-0.584024</td>\n",
              "      <td>1.640371</td>\n",
              "      <td>0.513664</td>\n",
              "      <td>NaN</td>\n",
              "      <td>0.432667</td>\n",
              "      <td>0.495051</td>\n",
              "    </tr>\n",
              "  </tbody>\n",
              "</table>\n",
              "<p>142 rows × 20 columns</p>\n",
              "</div>\n",
              "    <div class=\"colab-df-buttons\">\n",
              "\n",
              "  <div class=\"colab-df-container\">\n",
              "    <button class=\"colab-df-convert\" onclick=\"convertToInteractive('df-50e8add7-9e81-46ed-a50c-f69c4a357c21')\"\n",
              "            title=\"Convert this dataframe to an interactive table.\"\n",
              "            style=\"display:none;\">\n",
              "\n",
              "  <svg xmlns=\"http://www.w3.org/2000/svg\" height=\"24px\" viewBox=\"0 -960 960 960\">\n",
              "    <path d=\"M120-120v-720h720v720H120Zm60-500h600v-160H180v160Zm220 220h160v-160H400v160Zm0 220h160v-160H400v160ZM180-400h160v-160H180v160Zm440 0h160v-160H620v160ZM180-180h160v-160H180v160Zm440 0h160v-160H620v160Z\"/>\n",
              "  </svg>\n",
              "    </button>\n",
              "\n",
              "  <style>\n",
              "    .colab-df-container {\n",
              "      display:flex;\n",
              "      gap: 12px;\n",
              "    }\n",
              "\n",
              "    .colab-df-convert {\n",
              "      background-color: #E8F0FE;\n",
              "      border: none;\n",
              "      border-radius: 50%;\n",
              "      cursor: pointer;\n",
              "      display: none;\n",
              "      fill: #1967D2;\n",
              "      height: 32px;\n",
              "      padding: 0 0 0 0;\n",
              "      width: 32px;\n",
              "    }\n",
              "\n",
              "    .colab-df-convert:hover {\n",
              "      background-color: #E2EBFA;\n",
              "      box-shadow: 0px 1px 2px rgba(60, 64, 67, 0.3), 0px 1px 3px 1px rgba(60, 64, 67, 0.15);\n",
              "      fill: #174EA6;\n",
              "    }\n",
              "\n",
              "    .colab-df-buttons div {\n",
              "      margin-bottom: 4px;\n",
              "    }\n",
              "\n",
              "    [theme=dark] .colab-df-convert {\n",
              "      background-color: #3B4455;\n",
              "      fill: #D2E3FC;\n",
              "    }\n",
              "\n",
              "    [theme=dark] .colab-df-convert:hover {\n",
              "      background-color: #434B5C;\n",
              "      box-shadow: 0px 1px 3px 1px rgba(0, 0, 0, 0.15);\n",
              "      filter: drop-shadow(0px 1px 2px rgba(0, 0, 0, 0.3));\n",
              "      fill: #FFFFFF;\n",
              "    }\n",
              "  </style>\n",
              "\n",
              "    <script>\n",
              "      const buttonEl =\n",
              "        document.querySelector('#df-50e8add7-9e81-46ed-a50c-f69c4a357c21 button.colab-df-convert');\n",
              "      buttonEl.style.display =\n",
              "        google.colab.kernel.accessAllowed ? 'block' : 'none';\n",
              "\n",
              "      async function convertToInteractive(key) {\n",
              "        const element = document.querySelector('#df-50e8add7-9e81-46ed-a50c-f69c4a357c21');\n",
              "        const dataTable =\n",
              "          await google.colab.kernel.invokeFunction('convertToInteractive',\n",
              "                                                    [key], {});\n",
              "        if (!dataTable) return;\n",
              "\n",
              "        const docLinkHtml = 'Like what you see? Visit the ' +\n",
              "          '<a target=\"_blank\" href=https://colab.research.google.com/notebooks/data_table.ipynb>data table notebook</a>'\n",
              "          + ' to learn more about interactive tables.';\n",
              "        element.innerHTML = '';\n",
              "        dataTable['output_type'] = 'display_data';\n",
              "        await google.colab.output.renderOutput(dataTable, element);\n",
              "        const docLink = document.createElement('div');\n",
              "        docLink.innerHTML = docLinkHtml;\n",
              "        element.appendChild(docLink);\n",
              "      }\n",
              "    </script>\n",
              "  </div>\n",
              "\n",
              "\n",
              "<div id=\"df-5404cdee-9c76-4d63-8d32-f4bd38b9456a\">\n",
              "  <button class=\"colab-df-quickchart\" onclick=\"quickchart('df-5404cdee-9c76-4d63-8d32-f4bd38b9456a')\"\n",
              "            title=\"Suggest charts\"\n",
              "            style=\"display:none;\">\n",
              "\n",
              "<svg xmlns=\"http://www.w3.org/2000/svg\" height=\"24px\"viewBox=\"0 0 24 24\"\n",
              "     width=\"24px\">\n",
              "    <g>\n",
              "        <path d=\"M19 3H5c-1.1 0-2 .9-2 2v14c0 1.1.9 2 2 2h14c1.1 0 2-.9 2-2V5c0-1.1-.9-2-2-2zM9 17H7v-7h2v7zm4 0h-2V7h2v10zm4 0h-2v-4h2v4z\"/>\n",
              "    </g>\n",
              "</svg>\n",
              "  </button>\n",
              "\n",
              "<style>\n",
              "  .colab-df-quickchart {\n",
              "      --bg-color: #E8F0FE;\n",
              "      --fill-color: #1967D2;\n",
              "      --hover-bg-color: #E2EBFA;\n",
              "      --hover-fill-color: #174EA6;\n",
              "      --disabled-fill-color: #AAA;\n",
              "      --disabled-bg-color: #DDD;\n",
              "  }\n",
              "\n",
              "  [theme=dark] .colab-df-quickchart {\n",
              "      --bg-color: #3B4455;\n",
              "      --fill-color: #D2E3FC;\n",
              "      --hover-bg-color: #434B5C;\n",
              "      --hover-fill-color: #FFFFFF;\n",
              "      --disabled-bg-color: #3B4455;\n",
              "      --disabled-fill-color: #666;\n",
              "  }\n",
              "\n",
              "  .colab-df-quickchart {\n",
              "    background-color: var(--bg-color);\n",
              "    border: none;\n",
              "    border-radius: 50%;\n",
              "    cursor: pointer;\n",
              "    display: none;\n",
              "    fill: var(--fill-color);\n",
              "    height: 32px;\n",
              "    padding: 0;\n",
              "    width: 32px;\n",
              "  }\n",
              "\n",
              "  .colab-df-quickchart:hover {\n",
              "    background-color: var(--hover-bg-color);\n",
              "    box-shadow: 0 1px 2px rgba(60, 64, 67, 0.3), 0 1px 3px 1px rgba(60, 64, 67, 0.15);\n",
              "    fill: var(--button-hover-fill-color);\n",
              "  }\n",
              "\n",
              "  .colab-df-quickchart-complete:disabled,\n",
              "  .colab-df-quickchart-complete:disabled:hover {\n",
              "    background-color: var(--disabled-bg-color);\n",
              "    fill: var(--disabled-fill-color);\n",
              "    box-shadow: none;\n",
              "  }\n",
              "\n",
              "  .colab-df-spinner {\n",
              "    border: 2px solid var(--fill-color);\n",
              "    border-color: transparent;\n",
              "    border-bottom-color: var(--fill-color);\n",
              "    animation:\n",
              "      spin 1s steps(1) infinite;\n",
              "  }\n",
              "\n",
              "  @keyframes spin {\n",
              "    0% {\n",
              "      border-color: transparent;\n",
              "      border-bottom-color: var(--fill-color);\n",
              "      border-left-color: var(--fill-color);\n",
              "    }\n",
              "    20% {\n",
              "      border-color: transparent;\n",
              "      border-left-color: var(--fill-color);\n",
              "      border-top-color: var(--fill-color);\n",
              "    }\n",
              "    30% {\n",
              "      border-color: transparent;\n",
              "      border-left-color: var(--fill-color);\n",
              "      border-top-color: var(--fill-color);\n",
              "      border-right-color: var(--fill-color);\n",
              "    }\n",
              "    40% {\n",
              "      border-color: transparent;\n",
              "      border-right-color: var(--fill-color);\n",
              "      border-top-color: var(--fill-color);\n",
              "    }\n",
              "    60% {\n",
              "      border-color: transparent;\n",
              "      border-right-color: var(--fill-color);\n",
              "    }\n",
              "    80% {\n",
              "      border-color: transparent;\n",
              "      border-right-color: var(--fill-color);\n",
              "      border-bottom-color: var(--fill-color);\n",
              "    }\n",
              "    90% {\n",
              "      border-color: transparent;\n",
              "      border-bottom-color: var(--fill-color);\n",
              "    }\n",
              "  }\n",
              "</style>\n",
              "\n",
              "  <script>\n",
              "    async function quickchart(key) {\n",
              "      const quickchartButtonEl =\n",
              "        document.querySelector('#' + key + ' button');\n",
              "      quickchartButtonEl.disabled = true;  // To prevent multiple clicks.\n",
              "      quickchartButtonEl.classList.add('colab-df-spinner');\n",
              "      try {\n",
              "        const charts = await google.colab.kernel.invokeFunction(\n",
              "            'suggestCharts', [key], {});\n",
              "      } catch (error) {\n",
              "        console.error('Error during call to suggestCharts:', error);\n",
              "      }\n",
              "      quickchartButtonEl.classList.remove('colab-df-spinner');\n",
              "      quickchartButtonEl.classList.add('colab-df-quickchart-complete');\n",
              "    }\n",
              "    (() => {\n",
              "      let quickchartButtonEl =\n",
              "        document.querySelector('#df-5404cdee-9c76-4d63-8d32-f4bd38b9456a button');\n",
              "      quickchartButtonEl.style.display =\n",
              "        google.colab.kernel.accessAllowed ? 'block' : 'none';\n",
              "    })();\n",
              "  </script>\n",
              "</div>\n",
              "\n",
              "    </div>\n",
              "  </div>\n"
            ],
            "application/vnd.google.colaboratory.intrinsic+json": {
              "type": "dataframe",
              "summary": "{\n  \"name\": \"pd\",\n  \"rows\": 142,\n  \"fields\": [\n    {\n      \"column\": \"country\",\n      \"properties\": {\n        \"dtype\": \"string\",\n        \"num_unique_values\": 142,\n        \"samples\": [\n          \"Afghanistan\",\n          \"Venezuela\",\n          \"Ukraine\"\n        ],\n        \"semantic_type\": \"\",\n        \"description\": \"\"\n      }\n    },\n    {\n      \"column\": \"Rank\",\n      \"properties\": {\n        \"dtype\": \"number\",\n        \"std\": 41,\n        \"min\": 1,\n        \"max\": 142,\n        \"num_unique_values\": 142,\n        \"samples\": [\n          132,\n          20,\n          82\n        ],\n        \"semantic_type\": \"\",\n        \"description\": \"\"\n      }\n    },\n    {\n      \"column\": \"Happiness Score\",\n      \"properties\": {\n        \"dtype\": \"number\",\n        \"std\": 1.08799892397721,\n        \"min\": 3.528,\n        \"max\": 7.693,\n        \"num_unique_values\": 139,\n        \"samples\": [\n          3.847,\n          5.426,\n          6.416\n        ],\n        \"semantic_type\": \"\",\n        \"description\": \"\"\n      }\n    },\n    {\n      \"column\": \"Life Ladder\",\n      \"properties\": {\n        \"dtype\": \"number\",\n        \"std\": 1.1165920912951182,\n        \"min\": 3.164491177,\n        \"max\": 7.776208878,\n        \"num_unique_values\": 142,\n        \"samples\": [\n          3.782937527,\n          7.066577435,\n          5.030342102\n        ],\n        \"semantic_type\": \"\",\n        \"description\": \"\"\n      }\n    },\n    {\n      \"column\": \"Log GDP per capita\",\n      \"properties\": {\n        \"dtype\": \"number\",\n        \"std\": 1.149918742356462,\n        \"min\": 6.481235981,\n        \"max\": 11.73848248,\n        \"num_unique_values\": 139,\n        \"samples\": [\n          7.429011345,\n          9.485086441,\n          9.379259109\n        ],\n        \"semantic_type\": \"\",\n        \"description\": \"\"\n      }\n    },\n    {\n      \"column\": \"Social support\",\n      \"properties\": {\n        \"dtype\": \"number\",\n        \"std\": 0.11276858378104468,\n        \"min\": 0.5105745792,\n        \"max\": 0.9789652824,\n        \"num_unique_values\": 142,\n        \"samples\": [\n          0.5206367373,\n          0.9316296577,\n          0.8975734711\n        ],\n        \"semantic_type\": \"\",\n        \"description\": \"\"\n      }\n    },\n    {\n      \"column\": \"Healthy life expectancy at birth\",\n      \"properties\": {\n        \"dtype\": \"number\",\n        \"std\": 7.33866727031958,\n        \"min\": 44.03263855,\n        \"max\": 75.28047943,\n        \"num_unique_values\": 139,\n        \"samples\": [\n          48.79819107,\n          64.73936462,\n          65.48678589\n        ],\n        \"semantic_type\": \"\",\n        \"description\": \"\"\n      }\n    },\n    {\n      \"column\": \"Freedom to make life choices\",\n      \"properties\": {\n        \"dtype\": \"number\",\n        \"std\": 0.15237594313685884,\n        \"min\": 0.3145646155,\n        \"max\": 0.9555957913,\n        \"num_unique_values\": 141,\n        \"samples\": [\n          0.5866634846,\n          0.7763082385,\n          0.827868104\n        ],\n        \"semantic_type\": \"\",\n        \"description\": \"\"\n      }\n    },\n    {\n      \"column\": \"Generosity\",\n      \"properties\": {\n        \"dtype\": \"number\",\n        \"std\": 0.16847731579255862,\n        \"min\": -0.3109920621,\n        \"max\": 0.6253916025,\n        \"num_unique_values\": 132,\n        \"samples\": [\n          -0.2289473712,\n          -0.1987012774,\n          -0.05974919721\n        ],\n        \"semantic_type\": \"\",\n        \"description\": \"\"\n      }\n    },\n    {\n      \"column\": \"Perceptions of corruption\",\n      \"properties\": {\n        \"dtype\": \"number\",\n        \"std\": 0.18407003613303594,\n        \"min\": 0.08132489771,\n        \"max\": 0.9615888596,\n        \"num_unique_values\": 132,\n        \"samples\": [\n          0.6574302316,\n          0.8449347615,\n          0.7575725317\n        ],\n        \"semantic_type\": \"\",\n        \"description\": \"\"\n      }\n    },\n    {\n      \"column\": \"Positive affect\",\n      \"properties\": {\n        \"dtype\": \"number\",\n        \"std\": 0.116360580918462,\n        \"min\": 0.4229276478,\n        \"max\": 0.9168009758,\n        \"num_unique_values\": 142,\n        \"samples\": [\n          0.7103847265,\n          0.8578728437,\n          0.5703376532\n        ],\n        \"semantic_type\": \"\",\n        \"description\": \"\"\n      }\n    },\n    {\n      \"column\": \"Negative affect\",\n      \"properties\": {\n        \"dtype\": \"number\",\n        \"std\": 0.09154092210813518,\n        \"min\": 0.09549049288,\n        \"max\": 0.7045896649,\n        \"num_unique_values\": 142,\n        \"samples\": [\n          0.2679191232,\n          0.176307857,\n          0.1928190738\n        ],\n        \"semantic_type\": \"\",\n        \"description\": \"\"\n      }\n    },\n    {\n      \"column\": \"Confidence in national government\",\n      \"properties\": {\n        \"dtype\": \"number\",\n        \"std\": 0.17283241025801377,\n        \"min\": 0.1262189895,\n        \"max\": 0.9215180278,\n        \"num_unique_values\": 123,\n        \"samples\": [\n          0.5392730236,\n          0.2146221697,\n          0.2722021043\n        ],\n        \"semantic_type\": \"\",\n        \"description\": \"\"\n      }\n    },\n    {\n      \"column\": \"Democratic Quality\",\n      \"properties\": {\n        \"dtype\": \"number\",\n        \"std\": 0.9177788868782989,\n        \"min\": -2.26324749,\n        \"max\": 1.529229045,\n        \"num_unique_values\": 138,\n        \"samples\": [\n          -0.5380629897,\n          -1.436589599,\n          1.489543796\n        ],\n        \"semantic_type\": \"\",\n        \"description\": \"\"\n      }\n    },\n    {\n      \"column\": \"Delivery Quality\",\n      \"properties\": {\n        \"dtype\": \"number\",\n        \"std\": 0.9947373483157397,\n        \"min\": -1.555728316,\n        \"max\": 2.059122801,\n        \"num_unique_values\": 138,\n        \"samples\": [\n          -0.1970709413,\n          -0.6883252263,\n          1.965111136\n        ],\n        \"semantic_type\": \"\",\n        \"description\": \"\"\n      }\n    },\n    {\n      \"column\": \"Standard deviation of ladder by country-year\",\n      \"properties\": {\n        \"dtype\": \"number\",\n        \"std\": 0.3180738968314602,\n        \"min\": 1.14977777,\n        \"max\": 2.840632677,\n        \"num_unique_values\": 142,\n        \"samples\": [\n          1.798283219,\n          2.325374365,\n          1.977613568\n        ],\n        \"semantic_type\": \"\",\n        \"description\": \"\"\n      }\n    },\n    {\n      \"column\": \"Standard deviation/Mean of ladder by country-year\",\n      \"properties\": {\n        \"dtype\": \"number\",\n        \"std\": 0.09815615641370648,\n        \"min\": 0.1808647513,\n        \"max\": 0.7926106453,\n        \"num_unique_values\": 142,\n        \"samples\": [\n          0.4753668904,\n          0.3290665746,\n          0.393137008\n        ],\n        \"semantic_type\": \"\",\n        \"description\": \"\"\n      }\n    },\n    {\n      \"column\": \"GINI index (World Bank estimate)\",\n      \"properties\": {\n        \"dtype\": \"number\",\n        \"std\": 0.07794677036705557,\n        \"min\": 0.247,\n        \"max\": 0.574,\n        \"num_unique_values\": 61,\n        \"samples\": [\n          0.278,\n          0.311,\n          0.274\n        ],\n        \"semantic_type\": \"\",\n        \"description\": \"\"\n      }\n    },\n    {\n      \"column\": \"GINI index (World Bank estimate), average 2000-15\",\n      \"properties\": {\n        \"dtype\": \"number\",\n        \"std\": 0.08331494564444371,\n        \"min\": 0.2288333333,\n        \"max\": 0.626,\n        \"num_unique_values\": 119,\n        \"samples\": [\n          0.276,\n          0.3901666667,\n          0.2674545455\n        ],\n        \"semantic_type\": \"\",\n        \"description\": \"\"\n      }\n    },\n    {\n      \"column\": \"gini of household income reported in Gallup, by wp5-year\",\n      \"properties\": {\n        \"dtype\": \"number\",\n        \"std\": 0.10764945249661083,\n        \"min\": 0.2371461242,\n        \"max\": 0.8844138384,\n        \"num_unique_values\": 139,\n        \"samples\": [\n          0.5044803023,\n          0.4214086235,\n          0.5100064278\n        ],\n        \"semantic_type\": \"\",\n        \"description\": \"\"\n      }\n    }\n  ]\n}"
            }
          },
          "metadata": {},
          "execution_count": 43
        }
      ]
    },
    {
      "cell_type": "code",
      "source": [
        "plt.scatter(df['Happiness Score'],df['Social support'])\n",
        "plt.xlabel('Happiness Score')\n",
        "plt.ylabel('Social Support')\n",
        "plt.title('Happiness Score vs Social Support')\n"
      ],
      "metadata": {
        "colab": {
          "base_uri": "https://localhost:8080/",
          "height": 490
        },
        "id": "THbt9LpPl3Wp",
        "outputId": "1160da89-1280-431d-c91c-c10eb0b4ca19"
      },
      "execution_count": 47,
      "outputs": [
        {
          "output_type": "execute_result",
          "data": {
            "text/plain": [
              "Text(0.5, 1.0, 'Happiness Score vs Social Support')"
            ]
          },
          "metadata": {},
          "execution_count": 47
        },
        {
          "output_type": "display_data",
          "data": {
            "text/plain": [
              "<Figure size 640x480 with 1 Axes>"
            ],
            "image/png": "[encoded data removed]"
          },
          "metadata": {}
        }
      ]
    },
    {
      "cell_type": "code",
      "source": [
        "plt.scatter(df['Negative affect'],df['Generosity'])\n",
        "plt.xlabel('Negative Affect')\n",
        "plt.ylabel('Generosity')\n",
        "plt.title('Negative Affect vs Generosity')"
      ],
      "metadata": {
        "colab": {
          "base_uri": "https://localhost:8080/",
          "height": 490
        },
        "id": "nb4FZlLznFCZ",
        "outputId": "1ae703c2-1f62-4383-8528-200bfaf886f3"
      },
      "execution_count": 51,
      "outputs": [
        {
          "output_type": "execute_result",
          "data": {
            "text/plain": [
              "Text(0.5, 1.0, 'Negative Affect vs Generosity')"
            ]
          },
          "metadata": {},
          "execution_count": 51
        },
        {
          "output_type": "display_data",
          "data": {
            "text/plain": [
              "<Figure size 640x480 with 1 Axes>"
            ],
            "image/png": "[encoded data removed]"
          },
          "metadata": {}
        }
      ]
    }
  ]
}